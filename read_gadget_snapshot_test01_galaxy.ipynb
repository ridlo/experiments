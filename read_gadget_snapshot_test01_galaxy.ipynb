{
 "cells": [
  {
   "cell_type": "code",
   "execution_count": 1,
   "metadata": {},
   "outputs": [
    {
     "name": "stderr",
     "output_type": "stream",
     "text": [
      "/scratch/home/rwibowo/anaconda2/lib/python2.7/site-packages/h5py/__init__.py:36: FutureWarning: Conversion of the second argument of issubdtype from `float` to `np.floating` is deprecated. In future, it will be treated as `np.float64 == np.dtype(float).type`.\n",
      "  from ._conv import register_converters as _register_converters\n"
     ]
    }
   ],
   "source": [
    "import numpy as np\n",
    "from pygadgetreader import *"
   ]
  },
  {
   "cell_type": "markdown",
   "metadata": {},
   "source": [
    "### PyGadgetReader\n",
    "\n",
    "**STANDARD BLOCKS**\n",
    "\n",
    "---\n",
    "\n",
    "   pos         - (all)         Position data\n",
    "   \n",
    "   vel         - (all)         Velocity data code units\n",
    "   \n",
    "   pid         - (all)         Particle ids\n",
    "   \n",
    "   mass        - (all)         Particle masses\n",
    "   \n",
    "   u           - (gas)         Internal energy\n",
    "   \n",
    "   rho         - (gas)         Density\n",
    "   \n",
    "   ne          - (gas)         Number density of free electrons\n",
    "   \n",
    "   nh          - (gas)         Number density of neutral hydrogen\n",
    "   \n",
    "   hsml        - (gas)         Smoothing length of SPH particles\n",
    "   \n",
    "   sfr         - (gas)         Star formation rate in Msun/year\n",
    "   \n",
    "   age         - (stars)       Formation time of stellar particles\n",
    "   \n",
    "   z           - (gas & stars) Metallicty of gas/star particles (returns total Z)\n",
    "   \n",
    "   pot         - (all)         Potential of particles (if present in output)\n",
    "\n",
    "---\n",
    "**CUSTOM  BLOCKS**\n",
    "\n",
    "---\n",
    "   delaytime   - (gas)         DelayTime (>0 member of wind)\n",
    "   \n",
    "   fH2         - (gas)         Fractional Abundance of molecular hydrogen\n",
    "   \n",
    "   Sigma       - (gas)         Approximate surface density     \n",
    "   \n",
    "   tmax        - (gas & stars) Maximum temp\n",
    "   \n",
    "   nspawn      - (gas & stars) Number of star particles spawned\n",
    "   \n",
    "   zarray      - (gas & stars) NMETALS array [C,O,Si,Fe]\n",
    "   \n",
    "   \n",
    "---\n",
    "\n",
    "**SUPPORTED PARTICLE TYPES**\n",
    "\n",
    "---\n",
    "\n",
    "   gas         - Type0: Gas\n",
    "   \n",
    "   dm          - Type1: Dark Matter\n",
    "   \n",
    "   disk        - Type2: Disk particles\n",
    "   \n",
    "   bulge       - Type3: Bulge particles\n",
    "   \n",
    "   star        - Type4: Star particles\n",
    "   \n",
    "   bndry       - Type5: Boundary particles"
   ]
  },
  {
   "cell_type": "code",
   "execution_count": 2,
   "metadata": {},
   "outputs": [],
   "source": [
    "dirname = \"/scratch/home/rwibowo/output_galaxy/snapshot/\"\n",
    "\n",
    "snapfile = dirname + \"snapshot_045\""
   ]
  },
  {
   "cell_type": "code",
   "execution_count": 3,
   "metadata": {},
   "outputs": [
    {
     "data": {
      "text/plain": [
       "{'O0': 0.3175,\n",
       " 'Ol': 0.6825,\n",
       " 'boxsize': 850.0,\n",
       " 'flag_age': 0,\n",
       " 'flag_cooling': 0,\n",
       " 'flag_delaytime': 0,\n",
       " 'flag_fb': 0,\n",
       " 'flag_fh2': 0,\n",
       " 'flag_metals': 0,\n",
       " 'flag_potential': 0,\n",
       " 'flag_sfr': 0,\n",
       " 'flag_tmax': 0,\n",
       " 'h': 67.11,\n",
       " 'massTable': array([0., 0., 0., 0., 0., 0.]),\n",
       " 'nbndry': 0,\n",
       " 'nbulge': 5000,\n",
       " 'ndisk': 39000,\n",
       " 'ndm': 60000,\n",
       " 'nfiles': 1,\n",
       " 'ngas': 294699,\n",
       " 'npartThisFile': array([294699,  60000,  39000,   5000,      0,      0], dtype=uint32),\n",
       " 'npartTotal': array([294699,  60000,  39000,   5000,      0,      0], dtype=uint32),\n",
       " 'npartTotalHW': array([0, 0, 0, 0, 0, 0], dtype=uint32),\n",
       " 'nstar': 0,\n",
       " 'redshift': 0.0,\n",
       " 'rhocrit': 8.459965272993617e-26,\n",
       " 'time': 0.22499999996274708}"
      ]
     },
     "execution_count": 3,
     "metadata": {},
     "output_type": "execute_result"
    }
   ],
   "source": [
    "header = readheader(snapfile, 'header')\n",
    "header"
   ]
  },
  {
   "cell_type": "markdown",
   "metadata": {},
   "source": [
    "---\n",
    "There are only 4 types of particles:\n",
    "- bulge\n",
    "- disk\n",
    "- dm (dark matter)\n",
    "- gas"
   ]
  },
  {
   "cell_type": "code",
   "execution_count": 4,
   "metadata": {},
   "outputs": [],
   "source": [
    "# Information in the snapshot\n",
    "# for bulge, disk, and dm particles: pid, mass, pos, vel\n",
    "# for gas: pid, mass, pos, vel, rho, u, ne"
   ]
  },
  {
   "cell_type": "code",
   "execution_count": 5,
   "metadata": {},
   "outputs": [
    {
     "name": "stdout",
     "output_type": "stream",
     "text": [
      "Returning BULGE Particle IDs\n",
      "Returning BULGE Mass\n",
      "Returning BULGE Positions\n",
      "Returning BULGE Velocities\n",
      "Returning DISK  Particle IDs\n",
      "Returning DISK  Mass\n",
      "Returning DISK  Positions\n",
      "Returning DISK  Velocities\n",
      "Returning DM    Particle IDs\n",
      "Returning DM    Mass\n",
      "Returning DM    Positions\n",
      "Returning DM    Velocities\n",
      "Returning GAS   Particle IDs\n",
      "Returning GAS   Mass\n",
      "Returning GAS   Positions\n",
      "Returning GAS   Velocities\n",
      "Returning GAS   Density\n",
      "Returning GAS   Internal Energy\n",
      "Returning GAS   Electron Abundance\n"
     ]
    }
   ],
   "source": [
    "# Bulge\n",
    "pid_bulge = readsnap(snapfile, 'pid', 'bulge')\n",
    "mass_bulge = readsnap(snapfile, 'mass', 'bulge')\n",
    "pos_bulge = readsnap(snapfile, 'pos', 'bulge')\n",
    "vel_bulge = readsnap(snapfile, 'vel', 'bulge')\n",
    "# Disk\n",
    "pid_disk = readsnap(snapfile, 'pid', 'disk')\n",
    "mass_disk = readsnap(snapfile, 'mass', 'disk')\n",
    "pos_disk = readsnap(snapfile, 'pos', 'disk')\n",
    "vel_disk = readsnap(snapfile, 'vel', 'disk')\n",
    "# Dark Matter\n",
    "pid_dm = readsnap(snapfile, 'pid', 'dm')\n",
    "mass_dm = readsnap(snapfile, 'mass', 'dm')\n",
    "pos_dm = readsnap(snapfile, 'pos', 'dm')\n",
    "vel_dm = readsnap(snapfile, 'vel', 'dm')\n",
    "# Gas\n",
    "pid_gas = readsnap(snapfile, 'pid', 'gas')\n",
    "mass_gas = readsnap(snapfile, 'mass', 'gas')\n",
    "pos_gas = readsnap(snapfile, 'pos', 'gas')\n",
    "vel_gas = readsnap(snapfile, 'vel', 'gas')\n",
    "rho_gas = readsnap(snapfile, 'rho', 'gas')\n",
    "u_gas = readsnap(snapfile, 'u', 'gas')\n",
    "ne_gas = readsnap(snapfile, 'ne', 'gas')"
   ]
  },
  {
   "cell_type": "code",
   "execution_count": 6,
   "metadata": {},
   "outputs": [
    {
     "data": {
      "text/plain": [
       "398699"
      ]
     },
     "execution_count": 6,
     "metadata": {},
     "output_type": "execute_result"
    }
   ],
   "source": [
    "ntot = header[\"nbulge\"] + header[\"ndisk\"] + header[\"ndm\"] + header[\"ngas\"]\n",
    "ntot"
   ]
  },
  {
   "cell_type": "code",
   "execution_count": 7,
   "metadata": {},
   "outputs": [],
   "source": [
    "np.savetxt(\"snaps_045_onlypos_bulge.txt\", pos_bulge)\n",
    "np.savetxt(\"snaps_045_onlypos_disk.txt\", pos_disk)\n",
    "np.savetxt(\"snaps_045_onlypos_dm.txt\", pos_dm)\n",
    "np.savetxt(\"snaps_045_onlypos_gas.txt\", pos_gas)"
   ]
  },
  {
   "cell_type": "code",
   "execution_count": null,
   "metadata": {},
   "outputs": [],
   "source": []
  }
 ],
 "metadata": {
  "kernelspec": {
   "display_name": "Python 2",
   "language": "python",
   "name": "python2"
  },
  "language_info": {
   "codemirror_mode": {
    "name": "ipython",
    "version": 2
   },
   "file_extension": ".py",
   "mimetype": "text/x-python",
   "name": "python",
   "nbconvert_exporter": "python",
   "pygments_lexer": "ipython2",
   "version": "2.7.14"
  }
 },
 "nbformat": 4,
 "nbformat_minor": 2
}
