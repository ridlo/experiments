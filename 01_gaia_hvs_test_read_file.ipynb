{
 "cells": [
  {
   "cell_type": "code",
   "execution_count": 1,
   "metadata": {
    "collapsed": true
   },
   "outputs": [],
   "source": [
    "import numpy as np\n",
    "import pandas as pd\n",
    "import matplotlib.pyplot as plt\n",
    "\n",
    "%matplotlib inline"
   ]
  },
  {
   "cell_type": "code",
   "execution_count": 2,
   "metadata": {},
   "outputs": [],
   "source": [
    "inputfile = \"GaiaSource_1584380076484244352_2200921635402776448.csv\""
   ]
  },
  {
   "cell_type": "code",
   "execution_count": 3,
   "metadata": {
    "collapsed": true
   },
   "outputs": [],
   "source": [
    "colnames = ['solution_id', 'designation', 'source_id', 'random_index', 'ref_epoch', \n",
    "            'ra', 'ra_error', 'dec', 'dec_error', \n",
    "            'parallax', 'parallax_error', 'parallax_over_error', \n",
    "            'pmra', 'pmra_error', 'pmdec', 'pmdec_error', \n",
    "            'ra_dec_corr', 'ra_parallax_corr', 'ra_pmra_corr', 'ra_pmdec_corr', \n",
    "            'dec_parallax_corr', 'dec_pmra_corr', 'dec_pmdec_corr', \n",
    "            'parallax_pmra_corr', 'parallax_pmdec_corr', 'pmra_pmdec_corr',\n",
    "            'astrometric_n_obs_al', 'astrometric_n_obs_ac', 'astrometric_n_good_obs_al', \n",
    "            'astrometric_n_bad_obs_al', 'astrometric_gof_al', 'astrometric_chi2_al', \n",
    "            'astrometric_excess_noise', 'astrometric_excess_noise_sig', \n",
    "            'astrometric_params_solved', 'astrometric_primary_flag', 'astrometric_weight_al',\n",
    "            'astrometric_pseudo_colour', 'astrometric_pseudo_colour_error', \n",
    "            'mean_varpi_factor_al', 'astrometric_matched_observations', \n",
    "            'visibility_periods_used', 'astrometric_sigma5d_max', \n",
    "            'frame_rotator_object_type', 'matched_observations', 'duplicated_source', \n",
    "            'phot_g_n_obs', 'phot_g_mean_flux', 'phot_g_mean_flux_error', \n",
    "            'phot_g_mean_flux_over_error', 'phot_g_mean_mag', 'phot_bp_n_obs', \n",
    "            'phot_bp_mean_flux', 'phot_bp_mean_flux_error', 'phot_bp_mean_flux_over_error', \n",
    "            'phot_bp_mean_mag', 'phot_rp_n_obs', 'phot_rp_mean_flux', \n",
    "            'phot_rp_mean_flux_error', 'phot_rp_mean_flux_over_error', 'phot_rp_mean_mag', \n",
    "            'phot_bp_rp_excess_factor', 'phot_proc_mode', 'bp_rp', 'bp_g', 'g_rp', \n",
    "            'radial_velocity', 'radial_velocity_error', 'rv_nb_transits', \n",
    "            'rv_template_teff', 'rv_template_logg', 'rv_template_fe_h', 'phot_variable_flag', \n",
    "            'l', 'b', 'ecl_lon', 'ecl_lat', 'priam_flags', 'teff_val', \n",
    "            'teff_percentile_lower', 'teff_percentile_upper', 'a_g_val', \n",
    "            'a_g_percentile_lower', 'a_g_percentile_upper', 'e_bp_min_rp_val', \n",
    "            'e_bp_min_rp_percentile_lower', 'e_bp_min_rp_percentile_upper', 'flame_flags', \n",
    "            'radius_val', 'radius_percentile_lower', 'radius_percentile_upper', 'lum_val', \n",
    "            'lum_percentile_lower', 'lum_percentile_upper']"
   ]
  },
  {
   "cell_type": "code",
   "execution_count": 4,
   "metadata": {},
   "outputs": [
    {
     "name": "stdout",
     "output_type": "stream",
     "text": [
      "[['solution_id', 'designation', 'source_id', 'random_index', 'ref_epoch', 'ra', 'ra_error', 'dec', 'dec_error', 'parallax', 'parallax_error', 'parallax_over_error', 'pmra', 'pmra_error', 'pmdec', 'pmdec_error', 'ra_dec_corr', 'ra_parallax_corr', 'ra_pmra_corr', 'ra_pmdec_corr', 'dec_parallax_corr', 'dec_pmra_corr', 'dec_pmdec_corr', 'parallax_pmra_corr', 'parallax_pmdec_corr', 'pmra_pmdec_corr', 'astrometric_n_obs_al', 'astrometric_n_obs_ac', 'astrometric_n_good_obs_al', 'astrometric_n_bad_obs_al', 'astrometric_gof_al', 'astrometric_chi2_al', 'astrometric_excess_noise', 'astrometric_excess_noise_sig', 'astrometric_params_solved', 'astrometric_primary_flag', 'astrometric_weight_al', 'astrometric_pseudo_colour', 'astrometric_pseudo_colour_error', 'mean_varpi_factor_al', 'astrometric_matched_observations', 'visibility_periods_used', 'astrometric_sigma5d_max', 'frame_rotator_object_type', 'matched_observations', 'duplicated_source', 'phot_g_n_obs', 'phot_g_mean_flux', 'phot_g_mean_flux_error', 'phot_g_mean_flux_over_error', 'phot_g_mean_mag', 'phot_bp_n_obs', 'phot_bp_mean_flux', 'phot_bp_mean_flux_error', 'phot_bp_mean_flux_over_error', 'phot_bp_mean_mag', 'phot_rp_n_obs', 'phot_rp_mean_flux', 'phot_rp_mean_flux_error', 'phot_rp_mean_flux_over_error', 'phot_rp_mean_mag', 'phot_bp_rp_excess_factor', 'phot_proc_mode', 'bp_rp', 'bp_g', 'g_rp', 'radial_velocity', 'radial_velocity_error', 'rv_nb_transits', 'rv_template_teff', 'rv_template_logg', 'rv_template_fe_h', 'phot_variable_flag', 'l', 'b', 'ecl_lon', 'ecl_lat', 'priam_flags', 'teff_val', 'teff_percentile_lower', 'teff_percentile_upper', 'a_g_val', 'a_g_percentile_lower', 'a_g_percentile_upper', 'e_bp_min_rp_val', 'e_bp_min_rp_percentile_lower', 'e_bp_min_rp_percentile_upper', 'flame_flags', 'radius_val', 'radius_percentile_lower', 'radius_percentile_upper', 'lum_val', 'lum_percentile_lower', 'lum_percentile_upper']]\n",
      "[['solution_id', 'designation', 'source_id', 'random_index', 'ref_epoch', 'ra', 'ra_error', 'dec', 'dec_error', 'parallax', 'parallax_error', 'parallax_over_error', 'pmra', 'pmra_error', 'pmdec', 'pmdec_error', 'ra_dec_corr', 'ra_parallax_corr', 'ra_pmra_corr', 'ra_pmdec_corr', 'dec_parallax_corr', 'dec_pmra_corr', 'dec_pmdec_corr', 'parallax_pmra_corr', 'parallax_pmdec_corr', 'pmra_pmdec_corr', 'astrometric_n_obs_al', 'astrometric_n_obs_ac', 'astrometric_n_good_obs_al', 'astrometric_n_bad_obs_al', 'astrometric_gof_al', 'astrometric_chi2_al', 'astrometric_excess_noise', 'astrometric_excess_noise_sig', 'astrometric_params_solved', 'astrometric_primary_flag', 'astrometric_weight_al', 'astrometric_pseudo_colour', 'astrometric_pseudo_colour_error', 'mean_varpi_factor_al', 'astrometric_matched_observations', 'visibility_periods_used', 'astrometric_sigma5d_max', 'frame_rotator_object_type', 'matched_observations', 'duplicated_source', 'phot_g_n_obs', 'phot_g_mean_flux', 'phot_g_mean_flux_error', 'phot_g_mean_flux_over_error', 'phot_g_mean_mag', 'phot_bp_n_obs', 'phot_bp_mean_flux', 'phot_bp_mean_flux_error', 'phot_bp_mean_flux_over_error', 'phot_bp_mean_mag', 'phot_rp_n_obs', 'phot_rp_mean_flux', 'phot_rp_mean_flux_error', 'phot_rp_mean_flux_over_error', 'phot_rp_mean_mag', 'phot_bp_rp_excess_factor', 'phot_proc_mode', 'bp_rp', 'bp_g', 'g_rp', 'radial_velocity', 'radial_velocity_error', 'rv_nb_transits', 'rv_template_teff', 'rv_template_logg', 'rv_template_fe_h', 'phot_variable_flag', 'l', 'b', 'ecl_lon', 'ecl_lat', 'priam_flags', 'teff_val', 'teff_percentile_lower', 'teff_percentile_upper', 'a_g_val', 'a_g_percentile_lower', 'a_g_percentile_upper', 'e_bp_min_rp_val', 'e_bp_min_rp_percentile_lower', 'e_bp_min_rp_percentile_upper', 'flame_flags', 'radius_val', 'radius_percentile_lower', 'radius_percentile_upper', 'lum_val', 'lum_percentile_lower', 'lum_percentile_upper'], ['1635721458409799680', 'Gaia DR2 1584380076484244352', '1584380076484244352', '762438592', '2015.5', '182.8755581883795', '0.0212790242395056', '63.54138234954197', '0.01966600327720234', '1.993074195189996', '0.02400639851553525', '83.02262', '3.234628009532307', '0.04143244937602665', '-6.291124251194186', '0.04055069038309478', '0.27259696', '-0.3608034', '-0.31833214', '-0.10231504', '-0.15753631', '-0.19111045', '-0.4288791', '0.24472894', '-0.08114585', '0.27824137', '290', '281', '288', '2', '9.242479', '563.69495', '0.0', '0.0', '31', 'true', '230.88333', '1.6353740333208477', '0.005735384177019049', '-0.07445444', '33', '19', '0.03687139', '0', '34', 'false', '290', '174955.6388559186', '27.630836206903865', '6331.898', '12.581046', '33', '95058.12823383552', '122.54266074976307', '775.7146', '12.906415', '33', '115216.41346240403', '102.30499004700759', '1126.2052', '12.108134', '1.2018734', '0', '0.7982807', '0.32536888', '0.47291183', '-25.571993911231836', '2.7107455877215267', '10', '6000.0', '3.5', '0.0', 'NOT_AVAILABLE', '130.30839049565242', '53.011168694770475', '142.97696698383774', '56.12677950482005', '100001', '5835.0', '5778.0', '6170.517', '0.2333', '0.0173', '0.35', '0.097', '0.0', '0.174', '200111', '1.2883675', '1.1520687', '1.3139124', '1.7335553', '1.6969951', '1.7701155']]\n"
     ]
    }
   ],
   "source": [
    "count = 0\n",
    "dataline = []\n",
    "with open(inputfile, \"r\") as ifile:\n",
    "    for line in ifile:\n",
    "        count += 1\n",
    "        dataline.append(line.strip().split(\",\"))\n",
    "        print dataline\n",
    "        if count > 1:\n",
    "            break"
   ]
  },
  {
   "cell_type": "code",
   "execution_count": 6,
   "metadata": {},
   "outputs": [
    {
     "name": "stdout",
     "output_type": "stream",
     "text": [
      "solution_id\n",
      "designation\n",
      "source_id\n",
      "random_index\n",
      "ref_epoch\n",
      "ra\n",
      "ra_error\n",
      "dec\n",
      "dec_error\n",
      "parallax\n",
      "parallax_error\n",
      "parallax_over_error\n",
      "pmra\n",
      "pmra_error\n",
      "pmdec\n",
      "pmdec_error\n",
      "radial_velocity\n",
      "radial_velocity_error\n"
     ]
    }
   ],
   "source": [
    "print dataline[0][0]\n",
    "print dataline[0][1]\n",
    "print dataline[0][2]\n",
    "print dataline[0][3]\n",
    "print dataline[0][4]\n",
    "print dataline[0][5]\n",
    "print dataline[0][6]\n",
    "print dataline[0][7]\n",
    "print dataline[0][8]\n",
    "print dataline[0][9]\n",
    "print dataline[0][10]\n",
    "print dataline[0][11]\n",
    "print dataline[0][12]\n",
    "print dataline[0][13]\n",
    "print dataline[0][14]\n",
    "print dataline[0][15]\n",
    "print dataline[0][66]\n",
    "print dataline[0][67]"
   ]
  },
  {
   "cell_type": "code",
   "execution_count": null,
   "metadata": {
    "collapsed": true
   },
   "outputs": [],
   "source": []
  }
 ],
 "metadata": {
  "kernelspec": {
   "display_name": "Python 2",
   "language": "python",
   "name": "python2"
  },
  "language_info": {
   "codemirror_mode": {
    "name": "ipython",
    "version": 2
   },
   "file_extension": ".py",
   "mimetype": "text/x-python",
   "name": "python",
   "nbconvert_exporter": "python",
   "pygments_lexer": "ipython2",
   "version": "2.7.13"
  }
 },
 "nbformat": 4,
 "nbformat_minor": 2
}
