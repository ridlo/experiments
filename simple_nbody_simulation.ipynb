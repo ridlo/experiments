{
 "cells": [
  {
   "cell_type": "markdown",
   "metadata": {},
   "source": [
    "# N-body simulation\n",
    "\n",
    "make a simple $N$-body simulation\n",
    "- euler method\n",
    "- leapfrog method"
   ]
  },
  {
   "cell_type": "markdown",
   "metadata": {},
   "source": [
    "### Integration"
   ]
  },
  {
   "cell_type": "code",
   "execution_count": 1,
   "metadata": {
    "collapsed": true
   },
   "outputs": [],
   "source": [
    "import math\n",
    "import matplotlib.pyplot as plt\n",
    "import numpy as np\n",
    "\n",
    "%matplotlib inline"
   ]
  },
  {
   "cell_type": "code",
   "execution_count": 2,
   "metadata": {},
   "outputs": [],
   "source": [
    "######## EULER #########\n",
    "def integrator_euler_part1(n_particles, x, v, timestep):\n",
    "    for i in range(n_particles):\n",
    "        x[i][0]  += timestep * v[i][0]\n",
    "        x[i][1]  += timestep * v[i][1]\n",
    "        x[i][2]  += timestep * v[i][2]\n",
    "        \n",
    "def integrator_euler_part2(n_particles, v, a, timestep):\n",
    "    for i in range(n_particles):\n",
    "        v[i][0] += timestep * a[i][0]\n",
    "        v[i][1] += timestep * a[i][1]\n",
    "        v[i][2] += timestep * a[i][2]\n",
    "\n",
    "        \n",
    "        \n",
    "######## LEAPFROG #########\n",
    "def integrator_leapfrog_part1(n_particles, x, v, half_timestep):\n",
    "    for i in range(n_particles):\n",
    "        x[i][0] += half_timestep * v[i][0]\n",
    "        x[i][1] += half_timestep * v[i][1]\n",
    "        x[i][2] += half_timestep * v[i][2]\n",
    "\n",
    "def integrator_leapfrog_part2(n_particles, x, v, a, timestep, half_timestep):\n",
    "    for i in range(n_particles):\n",
    "        v[i][0] += timestep * a[i][0]\n",
    "        v[i][1] += timestep * a[i][1]\n",
    "        v[i][2] += timestep * a[i][2]\n",
    "        x[i][0]  += half_timestep * v[i][0]\n",
    "        x[i][1]  += half_timestep * v[i][1]\n",
    "        x[i][2]  += half_timestep * v[i][2]\n",
    "\n",
    "        \n",
    "        \n",
    "######### Calculate Gravity, direct method ########\n",
    "def gravity_calculate_acceleration(n_particles, m, x, a, G):\n",
    "    for i in range(n_particles):\n",
    "        a[i][0] = 0.0 # reset\n",
    "        a[i][1] = 0.0\n",
    "        a[i][2] = 0.0\n",
    "        for j in range(n_particles):\n",
    "            if (j == i):\n",
    "                continue\n",
    "            else:\n",
    "                dx = x[i][0] - x[j][0]\n",
    "                dy = x[i][1] - x[j][1]\n",
    "                dz = x[i][2] - x[j][2]\n",
    "                r = math.sqrt(dx*dx + dy*dy + dz*dz)\n",
    "                prefact = -G*m[j]/(r*r*r)\n",
    "                a[i][0] += prefact * dx # sum for all j\n",
    "                a[i][1] += prefact * dy\n",
    "                a[i][2] += prefact * dz\n",
    "                \n",
    "# main        \n",
    "def integrate(m, x0, v0, tmax, dt, G=1.0):\n",
    "    npar = len(m) # number of particles\n",
    "    x = x0\n",
    "    v = v0\n",
    "    # \"create\" an empty list with size npar x 3 (ax,ay,az)\n",
    "    a = [ [0.0 for _ in range(3) ] for _ in range(npar)] # fuck python\n",
    "    \n",
    "    tstep = dt\n",
    "    half_tstep = 0.5*tstep\n",
    "    t = 0.0\n",
    "    xsave = []\n",
    "    \n",
    "    # main iteration\n",
    "    ## backward halfstep for leapfrog\n",
    "#     gravity_calculate_acceleration(npar, m, x, a, G)\n",
    "#     for i in range(npar):\n",
    "#         v[i][0] -= half_tstep * a[i][0]\n",
    "#         v[i][1] -= half_tstep * a[i][1]\n",
    "#         v[i][2] -= half_tstep * a[i][2]\n",
    "    \n",
    "    while (t < tmax):\n",
    "        #integrator_leapfrog_part1(npar, x, v, half_tstep)\n",
    "        integrator_euler_part1(npar, x, v, tstep)\n",
    "        gravity_calculate_acceleration(npar, m, x, a, G)\n",
    "        #integrator_leapfrog_part2(npar, x, v, a, tstep, half_tstep)\n",
    "        integrator_euler_part2(npar, v, a, tstep)\n",
    "        t += tstep\n",
    "        \n",
    "        # save\n",
    "        # if we append list directly, the value is mutable... fuck python\n",
    "        # same value for all -_-!\n",
    "        xsave.append([])\n",
    "        for particle in x:\n",
    "            xsave[-1].append([])\n",
    "            for xyz in particle:\n",
    "                xsave[-1][-1].append(xyz)\n",
    "\n",
    "    return xsave\n",
    "\n",
    "                \n",
    "def plot_xy(pos):\n",
    "    # function to plot xy-coord\n",
    "    \n",
    "    npar = len(pos[0])\n",
    "    pos = np.array(pos) # change it from python-list to numpy-array\n",
    "    \n",
    "    fig = plt.figure(figsize=(5,5))\n",
    "    ax = plt.subplot(111)\n",
    "    # plot\n",
    "    for i in range(npar): \n",
    "        plt.plot(pos[:, i, 0], pos[:, i, 1], ',')\n",
    "        \n",
    "    # make it using same scale for x and y\n",
    "    plt.axis('scaled')\n",
    "    plt.xlabel(\"x\"); plt.ylabel(\"y\")\n",
    "    plt.show()"
   ]
  },
  {
   "cell_type": "markdown",
   "metadata": {},
   "source": [
    "### Test for two-body problem\n",
    "\n",
    "there is analytical solution for this problem.\n",
    "\n",
    "**initial condition**:\n",
    "- $m_1 = 0.6$; $m_2 = 0.4$\n",
    "- $x_1 = (-0.4, 0, 0)$; $x_2 = (0.6, 0, 0)$\n",
    "- $v_1 = (0, -0.2, 0)$; $v_2 = (0, 0.3, 0)$\n",
    "\n",
    "G = 1"
   ]
  },
  {
   "cell_type": "markdown",
   "metadata": {},
   "source": [
    "**dt = 0.01, tmax = 100**"
   ]
  },
  {
   "cell_type": "code",
   "execution_count": 3,
   "metadata": {},
   "outputs": [
    {
     "data": {
      "image/png": "[encoded data removed]",
      "text/plain": [
       "<matplotlib.figure.Figure at 0x7f92f4066090>"
      ]
     },
     "metadata": {},
     "output_type": "display_data"
    }
   ],
   "source": [
    "m = [0.6, 0.4]\n",
    "x0 = [[-0.4, 0.0, 0.0], [0.6, 0.0, 0.0]]\n",
    "v0 = [[0., -0.2, 0.], [0., 0.3, 0.]]\n",
    "\n",
    "xs = integrate(m, x0, v0, 100, 0.01)\n",
    "plot_xy(xs)"
   ]
  },
  {
   "cell_type": "markdown",
   "metadata": {},
   "source": [
    "**dt = 0.001, tmax = 100**"
   ]
  },
  {
   "cell_type": "code",
   "execution_count": 4,
   "metadata": {},
   "outputs": [
    {
     "data": {
      "image/png": "[encoded data removed]",
      "text/plain": [
       "<matplotlib.figure.Figure at 0x7f92fbfb4490>"
      ]
     },
     "metadata": {},
     "output_type": "display_data"
    }
   ],
   "source": [
    "m = [0.6, 0.4]\n",
    "x0 = [[-0.4, 0.0, 0.0], [0.6, 0.0, 0.0]]\n",
    "v0 = [[0., -0.2, 0.], [0., 0.3, 0.]]\n",
    "\n",
    "xs = integrate(m, x0, v0, 100, 0.001)\n",
    "plot_xy(xs)"
   ]
  },
  {
   "cell_type": "markdown",
   "metadata": {},
   "source": [
    "### Test for three-body problem\n",
    "\n",
    "**initial condition:**\n",
    "\n",
    "$$m_1 = 3, m_2 = 4,\\text{ and } m_3 = 5$$\n",
    "\n",
    "$$\n",
    "\\begin{eqnarray*}\n",
    "\\textbf{r}_1 &=& (1.0, 3.0, 0.0)\\\\\n",
    "\\textbf{r}_2 &=& (-2.0, -1.0, 0.0)\\\\\n",
    "\\textbf{r}_3 &=& (1.0, -1.0, 0.0)\\\\\n",
    "\\textbf{v}_{1,2,3} &=& (0, 0, 0)\n",
    "\\end{eqnarray*}\n",
    "$$\n",
    "\n",
    "use G = 1.0"
   ]
  },
  {
   "cell_type": "markdown",
   "metadata": {},
   "source": [
    "**dt = 0.0001, tmax = 5.0**"
   ]
  },
  {
   "cell_type": "code",
   "execution_count": 5,
   "metadata": {},
   "outputs": [
    {
     "data": {
      "image/png": "[encoded data removed]",
      "text/plain": [
       "<matplotlib.figure.Figure at 0x7f92fbb70290>"
      ]
     },
     "metadata": {},
     "output_type": "display_data"
    }
   ],
   "source": [
    "m = [3.0, 4.0, 5.0]\n",
    "x0 = [[1.0, 3.0, 0.0], [-2.0, -1.0, 0.0], [1.0, -1.0, 0.0]]\n",
    "v0 = [[0.0, 0.0, 0.0], [0.0, 0.0, 0.0], [0.0, 0.0, 0.0]]\n",
    "\n",
    "xs = integrate(m, x0, v0, 5.0, 0.0001)\n",
    "plot_xy(xs)"
   ]
  },
  {
   "cell_type": "markdown",
   "metadata": {},
   "source": [
    "**dt = 0.001, tmax = 5.0**"
   ]
  },
  {
   "cell_type": "code",
   "execution_count": 6,
   "metadata": {},
   "outputs": [
    {
     "data": {
      "image/png": "[encoded data removed]",
      "text/plain": [
       "<matplotlib.figure.Figure at 0x7f92fd7e6290>"
      ]
     },
     "metadata": {},
     "output_type": "display_data"
    }
   ],
   "source": [
    "m = [3.0, 4.0, 5.0]\n",
    "x0 = [[1.0, 3.0, 0.0], [-2.0, -1.0, 0.0], [1.0, -1.0, 0.0]]\n",
    "v0 = [[0.0, 0.0, 0.0], [0.0, 0.0, 0.0], [0.0, 0.0, 0.0]]\n",
    "\n",
    "xs = integrate(m, x0, v0, 5.0, 0.001)\n",
    "plot_xy(xs)"
   ]
  },
  {
   "cell_type": "code",
   "execution_count": null,
   "metadata": {
    "collapsed": true
   },
   "outputs": [],
   "source": []
  }
 ],
 "metadata": {
  "kernelspec": {
   "display_name": "Python 2",
   "language": "python",
   "name": "python2"
  },
  "language_info": {
   "codemirror_mode": {
    "name": "ipython",
    "version": 2
   },
   "file_extension": ".py",
   "mimetype": "text/x-python",
   "name": "python",
   "nbconvert_exporter": "python",
   "pygments_lexer": "ipython2",
   "version": "2.7.13"
  }
 },
 "nbformat": 4,
 "nbformat_minor": 2
}
